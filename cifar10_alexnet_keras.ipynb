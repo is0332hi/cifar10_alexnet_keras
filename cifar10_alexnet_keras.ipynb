{
  "nbformat": 4,
  "nbformat_minor": 0,
  "metadata": {
    "colab": {
      "name": "Untitled0.ipynb",
      "version": "0.3.2",
      "provenance": []
    },
    "kernelspec": {
      "name": "python3",
      "display_name": "Python 3"
    },
    "accelerator": "GPU"
  },
  "cells": [
    {
      "cell_type": "code",
      "metadata": {
        "id": "uVaMG_SPzmk9",
        "colab_type": "code",
        "colab": {
          "base_uri": "https://localhost:8080/",
          "height": 119
        },
        "outputId": "d1403435-387a-47b1-b196-d9504f753549"
      },
      "source": [
        "#cifer or imagenet\n",
        "from keras.datasets import cifar10\n",
        "(x_train, y_train), (x_test, y_test) = cifar10.load_data()\n",
        "# train split to validation\n",
        "from sklearn.model_selection import train_test_split\n",
        "x_train1, x_valid, y_train1, y_valid = train_test_split(x_train, y_train, test_size=0.175)\n",
        "\n",
        "x_train = x_train.astype('float32') / 255 \n",
        "x_valid = x_valid.astype('float32') / 255\n",
        "x_test = x_test.astype('float32') / 255\n",
        "\n",
        "from keras.utils.np_utils import to_categorical\n",
        "N = 10\n",
        "y_train = to_categorical(y_train, N)\n",
        "y_valid = to_categorical(y_valid, N)\n",
        "y_test = to_categorical(y_test, N)\n",
        "\n",
        "print(x_train.shape)\n",
        "print(x_valid.shape)\n",
        "print(x_test.shape)"
      ],
      "execution_count": 1,
      "outputs": [
        {
          "output_type": "stream",
          "text": [
            "Using TensorFlow backend.\n"
          ],
          "name": "stderr"
        },
        {
          "output_type": "stream",
          "text": [
            "Downloading data from https://www.cs.toronto.edu/~kriz/cifar-10-python.tar.gz\n",
            "170500096/170498071 [==============================] - 2s 0us/step\n",
            "(50000, 32, 32, 3)\n",
            "(8750, 32, 32, 3)\n",
            "(10000, 32, 32, 3)\n"
          ],
          "name": "stdout"
        }
      ]
    },
    {
      "cell_type": "code",
      "metadata": {
        "id": "0CQbRJjUz5pX",
        "colab_type": "code",
        "colab": {
          "base_uri": "https://localhost:8080/",
          "height": 139
        },
        "outputId": "ad0e3dd3-4672-4f2e-fb7e-29731872aad1"
      },
      "source": [
        "from keras.models import Sequential\n",
        "from keras.layers import Dense, Dropout, Flatten\n",
        "from keras.layers import Conv2D, MaxPooling2D\n",
        "\n",
        "def Model():\n",
        "  \n",
        "    model = Sequential()\n",
        "    model.add(Conv2D(96, kernel_size=(3,3), strides = 4, padding='same', activation='relu', input_shape=(32, 32, 3)))\n",
        "    model.add(MaxPooling2D(pool_size=(2,2),  strides = 2, padding='same'))\n",
        "    model.add(Conv2D(256, kernel_size=(5,5), padding='same', activation='relu'))\n",
        "    model.add(MaxPooling2D(pool_size=(2,2),  strides = 2))\n",
        "    model.add(Conv2D(384, kernel_size=(3,3), padding='same', activation='relu'))\n",
        "    model.add(Conv2D(384, kernel_size=(3,3), padding='same', activation='relu'))\n",
        "    model.add(Conv2D(256, kernel_size=(3,3), padding='same', activation='relu'))\n",
        "    model.add(MaxPooling2D(pool_size=(2,2), strides = 2))\n",
        "    model.add(Flatten())\n",
        "    model.add(Dense(4096))\n",
        "    model.add(Dropout(0.5))\n",
        "    model.add(Dense(4096))\n",
        "    model.add(Dropout(0.5))\n",
        "    model.add(Dense(10,activation='softmax'))\n",
        "    return model\n",
        "\n",
        "\n",
        "model = Model()\n",
        "\n",
        "from keras.optimizers import RMSprop\n",
        "model.compile(loss='categorical_crossentropy',\n",
        "              optimizer=RMSprop(),\n",
        "              metrics=['accuracy'])"
      ],
      "execution_count": 2,
      "outputs": [
        {
          "output_type": "stream",
          "text": [
            "WARNING:tensorflow:From /usr/local/lib/python3.6/dist-packages/tensorflow/python/framework/op_def_library.py:263: colocate_with (from tensorflow.python.framework.ops) is deprecated and will be removed in a future version.\n",
            "Instructions for updating:\n",
            "Colocations handled automatically by placer.\n",
            "WARNING:tensorflow:From /usr/local/lib/python3.6/dist-packages/keras/backend/tensorflow_backend.py:3445: calling dropout (from tensorflow.python.ops.nn_ops) with keep_prob is deprecated and will be removed in a future version.\n",
            "Instructions for updating:\n",
            "Please use `rate` instead of `keep_prob`. Rate should be set to `rate = 1 - keep_prob`.\n"
          ],
          "name": "stdout"
        }
      ]
    },
    {
      "cell_type": "code",
      "metadata": {
        "id": "SmJtUM1-z6gW",
        "colab_type": "code",
        "colab": {
          "base_uri": "https://localhost:8080/",
          "height": 1839
        },
        "outputId": "aa81b77e-a89d-49e3-8166-4146e426b9c6"
      },
      "source": [
        "# verbose = progress bar setting\n",
        "history = model.fit(x_train, y_train,\n",
        "                    batch_size=128,\n",
        "                    epochs=50,\n",
        "                    verbose=1,\n",
        "                    validation_data=(x_valid, y_valid))\n",
        "\n",
        "# model.save_weights(\"mnist.hdf5\") \n",
        "score = model.evaluate(x_test, y_test, verbose=0)\n",
        "print('Test loss:', score[0])\n",
        "print('Test accuracy:', score[1])"
      ],
      "execution_count": 3,
      "outputs": [
        {
          "output_type": "stream",
          "text": [
            "WARNING:tensorflow:From /usr/local/lib/python3.6/dist-packages/tensorflow/python/ops/math_ops.py:3066: to_int32 (from tensorflow.python.ops.math_ops) is deprecated and will be removed in a future version.\n",
            "Instructions for updating:\n",
            "Use tf.cast instead.\n",
            "Train on 50000 samples, validate on 8750 samples\n",
            "Epoch 1/50\n",
            "50000/50000 [==============================] - 27s 536us/step - loss: 2.2814 - acc: 0.1492 - val_loss: 2.0583 - val_acc: 0.1984\n",
            "Epoch 2/50\n",
            "50000/50000 [==============================] - 21s 413us/step - loss: 1.8046 - acc: 0.3227 - val_loss: 1.6668 - val_acc: 0.3584\n",
            "Epoch 3/50\n",
            "50000/50000 [==============================] - 21s 416us/step - loss: 1.5408 - acc: 0.4437 - val_loss: 1.8021 - val_acc: 0.3667\n",
            "Epoch 4/50\n",
            "50000/50000 [==============================] - 21s 415us/step - loss: 1.3769 - acc: 0.5154 - val_loss: 1.3137 - val_acc: 0.5141\n",
            "Epoch 5/50\n",
            "50000/50000 [==============================] - 21s 416us/step - loss: 1.2439 - acc: 0.5611 - val_loss: 1.1288 - val_acc: 0.6011\n",
            "Epoch 6/50\n",
            "50000/50000 [==============================] - 21s 416us/step - loss: 1.1389 - acc: 0.6025 - val_loss: 1.1767 - val_acc: 0.5807\n",
            "Epoch 7/50\n",
            "50000/50000 [==============================] - 21s 414us/step - loss: 1.0497 - acc: 0.6362 - val_loss: 1.0322 - val_acc: 0.6458\n",
            "Epoch 8/50\n",
            "50000/50000 [==============================] - 21s 417us/step - loss: 0.9664 - acc: 0.6703 - val_loss: 0.7335 - val_acc: 0.7414\n",
            "Epoch 9/50\n",
            "50000/50000 [==============================] - 21s 417us/step - loss: 0.8921 - acc: 0.6938 - val_loss: 0.9953 - val_acc: 0.6854\n",
            "Epoch 10/50\n",
            "50000/50000 [==============================] - 21s 415us/step - loss: 0.8256 - acc: 0.7211 - val_loss: 0.6395 - val_acc: 0.7913\n",
            "Epoch 11/50\n",
            "50000/50000 [==============================] - 21s 416us/step - loss: 0.7718 - acc: 0.7412 - val_loss: 0.7509 - val_acc: 0.7333\n",
            "Epoch 12/50\n",
            "50000/50000 [==============================] - 21s 414us/step - loss: 0.7039 - acc: 0.7644 - val_loss: 0.7033 - val_acc: 0.7626\n",
            "Epoch 13/50\n",
            "50000/50000 [==============================] - 21s 412us/step - loss: 0.6653 - acc: 0.7780 - val_loss: 0.5100 - val_acc: 0.8237\n",
            "Epoch 14/50\n",
            "50000/50000 [==============================] - 21s 411us/step - loss: 0.6204 - acc: 0.7953 - val_loss: 0.6423 - val_acc: 0.7986\n",
            "Epoch 15/50\n",
            "50000/50000 [==============================] - 20s 410us/step - loss: 0.5858 - acc: 0.8108 - val_loss: 0.4260 - val_acc: 0.8613\n",
            "Epoch 16/50\n",
            "50000/50000 [==============================] - 20s 405us/step - loss: 0.5480 - acc: 0.8261 - val_loss: 0.4658 - val_acc: 0.8523\n",
            "Epoch 17/50\n",
            "50000/50000 [==============================] - 21s 417us/step - loss: 0.5199 - acc: 0.8356 - val_loss: 0.4998 - val_acc: 0.8288\n",
            "Epoch 18/50\n",
            "50000/50000 [==============================] - 21s 415us/step - loss: 0.4808 - acc: 0.8483 - val_loss: 0.4585 - val_acc: 0.8543\n",
            "Epoch 19/50\n",
            "50000/50000 [==============================] - 21s 418us/step - loss: 0.4504 - acc: 0.8597 - val_loss: 0.4475 - val_acc: 0.8752\n",
            "Epoch 20/50\n",
            "50000/50000 [==============================] - 21s 416us/step - loss: 0.4396 - acc: 0.8658 - val_loss: 0.4532 - val_acc: 0.8552\n",
            "Epoch 21/50\n",
            "50000/50000 [==============================] - 21s 416us/step - loss: 0.4137 - acc: 0.8762 - val_loss: 0.4194 - val_acc: 0.8656\n",
            "Epoch 22/50\n",
            "50000/50000 [==============================] - 21s 417us/step - loss: 0.3989 - acc: 0.8793 - val_loss: 0.3485 - val_acc: 0.9014\n",
            "Epoch 23/50\n",
            "50000/50000 [==============================] - 21s 418us/step - loss: 0.3929 - acc: 0.8847 - val_loss: 0.3451 - val_acc: 0.9040\n",
            "Epoch 24/50\n",
            "50000/50000 [==============================] - 21s 415us/step - loss: 0.3754 - acc: 0.8915 - val_loss: 0.6380 - val_acc: 0.8101\n",
            "Epoch 25/50\n",
            "50000/50000 [==============================] - 21s 417us/step - loss: 0.3574 - acc: 0.8974 - val_loss: 0.3450 - val_acc: 0.8962\n",
            "Epoch 26/50\n",
            "50000/50000 [==============================] - 21s 416us/step - loss: 0.3538 - acc: 0.8979 - val_loss: 0.3587 - val_acc: 0.8902\n",
            "Epoch 27/50\n",
            "50000/50000 [==============================] - 21s 418us/step - loss: 0.3425 - acc: 0.9037 - val_loss: 0.2722 - val_acc: 0.9189\n",
            "Epoch 28/50\n",
            "50000/50000 [==============================] - 21s 417us/step - loss: 0.3359 - acc: 0.9060 - val_loss: 0.2817 - val_acc: 0.9154\n",
            "Epoch 29/50\n",
            "50000/50000 [==============================] - 21s 414us/step - loss: 0.3252 - acc: 0.9087 - val_loss: 0.1915 - val_acc: 0.9467\n",
            "Epoch 30/50\n",
            "50000/50000 [==============================] - 21s 415us/step - loss: 0.3248 - acc: 0.9114 - val_loss: 0.4177 - val_acc: 0.8903\n",
            "Epoch 31/50\n",
            "50000/50000 [==============================] - 21s 412us/step - loss: 0.3245 - acc: 0.9133 - val_loss: 0.1872 - val_acc: 0.9464\n",
            "Epoch 32/50\n",
            "50000/50000 [==============================] - 21s 412us/step - loss: 0.3157 - acc: 0.9141 - val_loss: 0.1703 - val_acc: 0.9491\n",
            "Epoch 33/50\n",
            "50000/50000 [==============================] - 21s 413us/step - loss: 0.3161 - acc: 0.9171 - val_loss: 0.5431 - val_acc: 0.8594\n",
            "Epoch 34/50\n",
            "50000/50000 [==============================] - 21s 416us/step - loss: 0.3148 - acc: 0.9162 - val_loss: 0.1957 - val_acc: 0.9467\n",
            "Epoch 35/50\n",
            "50000/50000 [==============================] - 21s 418us/step - loss: 0.2886 - acc: 0.9255 - val_loss: 0.2348 - val_acc: 0.9569\n",
            "Epoch 36/50\n",
            "50000/50000 [==============================] - 21s 416us/step - loss: 0.3115 - acc: 0.9194 - val_loss: 0.4111 - val_acc: 0.8962\n",
            "Epoch 37/50\n",
            "50000/50000 [==============================] - 21s 416us/step - loss: 0.2955 - acc: 0.9242 - val_loss: 0.2290 - val_acc: 0.9448\n",
            "Epoch 38/50\n",
            "50000/50000 [==============================] - 21s 418us/step - loss: 0.2940 - acc: 0.9234 - val_loss: 0.1596 - val_acc: 0.9571\n",
            "Epoch 39/50\n",
            "50000/50000 [==============================] - 21s 418us/step - loss: 0.2843 - acc: 0.9287 - val_loss: 0.2223 - val_acc: 0.9433\n",
            "Epoch 40/50\n",
            "50000/50000 [==============================] - 21s 417us/step - loss: 0.2850 - acc: 0.9291 - val_loss: 0.5693 - val_acc: 0.8611\n",
            "Epoch 41/50\n",
            "50000/50000 [==============================] - 21s 417us/step - loss: 0.2835 - acc: 0.9289 - val_loss: 0.1737 - val_acc: 0.9526\n",
            "Epoch 42/50\n",
            "50000/50000 [==============================] - 21s 416us/step - loss: 0.3011 - acc: 0.9259 - val_loss: 0.1283 - val_acc: 0.9663\n",
            "Epoch 43/50\n",
            "50000/50000 [==============================] - 21s 418us/step - loss: 0.2907 - acc: 0.9289 - val_loss: 0.1952 - val_acc: 0.9518\n",
            "Epoch 44/50\n",
            "50000/50000 [==============================] - 21s 418us/step - loss: 0.2722 - acc: 0.9321 - val_loss: 0.1370 - val_acc: 0.9653\n",
            "Epoch 45/50\n",
            "50000/50000 [==============================] - 21s 416us/step - loss: 0.2797 - acc: 0.9327 - val_loss: 0.3106 - val_acc: 0.9155\n",
            "Epoch 46/50\n",
            "50000/50000 [==============================] - 20s 409us/step - loss: 0.2694 - acc: 0.9339 - val_loss: 0.1238 - val_acc: 0.9712\n",
            "Epoch 47/50\n",
            "50000/50000 [==============================] - 21s 416us/step - loss: 0.2816 - acc: 0.9341 - val_loss: 0.1529 - val_acc: 0.9561\n",
            "Epoch 48/50\n",
            "50000/50000 [==============================] - 21s 415us/step - loss: 0.2658 - acc: 0.9371 - val_loss: 0.3053 - val_acc: 0.9216\n",
            "Epoch 49/50\n",
            "50000/50000 [==============================] - 21s 418us/step - loss: 0.2569 - acc: 0.9382 - val_loss: 0.2502 - val_acc: 0.9299\n",
            "Epoch 50/50\n",
            "50000/50000 [==============================] - 21s 418us/step - loss: 0.2920 - acc: 0.9331 - val_loss: 0.3981 - val_acc: 0.9017\n",
            "Test loss: 2.7303140144348146\n",
            "Test accuracy: 0.5686\n"
          ],
          "name": "stdout"
        }
      ]
    },
    {
      "cell_type": "code",
      "metadata": {
        "id": "GUFgKHc-0TDt",
        "colab_type": "code",
        "colab": {
          "base_uri": "https://localhost:8080/",
          "height": 573
        },
        "outputId": "fd126ef2-26a1-4583-bdc8-57b4f929928a"
      },
      "source": [
        "from matplotlib import pyplot as plt\n",
        "\n",
        "# 精度のplot\n",
        "plt.plot(history.history['acc'], marker='.', label='acc')\n",
        "plt.plot(history.history['val_acc'], marker='.', label='val_acc')\n",
        "plt.title('model accuracy')\n",
        "plt.grid()\n",
        "plt.xlabel('epoch')\n",
        "plt.ylabel('accuracy')\n",
        "plt.legend(loc='best')\n",
        "plt.show()\n",
        "\n",
        "# 損失のplot\n",
        "plt.plot(history.history['loss'], marker='.', label='loss')\n",
        "plt.plot(history.history['val_loss'], marker='.', label='val_loss')\n",
        "plt.title('model loss')\n",
        "plt.grid()\n",
        "plt.xlabel('epoch')\n",
        "plt.ylabel('loss')\n",
        "plt.legend(loc='best')\n",
        "plt.show()"
      ],
      "execution_count": 5,
      "outputs": [
        {
          "output_type": "display_data",
          "data": {
            "image/png": "[encoded data removed]",
            "text/plain": [
              "<Figure size 432x288 with 1 Axes>"
            ]
          },
          "metadata": {
            "tags": []
          }
        },
        {
          "output_type": "display_data",
          "data": {
            "image/png": "[encoded data removed]",
            "text/plain": [
              "<Figure size 432x288 with 1 Axes>"
            ]
          },
          "metadata": {
            "tags": []
          }
        }
      ]
    }
  ]
}